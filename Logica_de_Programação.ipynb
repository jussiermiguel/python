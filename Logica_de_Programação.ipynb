{
  "nbformat": 4,
  "nbformat_minor": 0,
  "metadata": {
    "colab": {
      "provenance": [],
      "collapsed_sections": [
        "u4n0emSTimqx",
        "WhaTJkO5kiKX",
        "IP-frE4tlgdZ",
        "5g2T_THhmONF",
        "5pw0GB2An5Am",
        "vZGb_jZIp9fq",
        "9vDu8S4Frugn",
        "b1IaI4Vgt_ch",
        "sY7srybHy-Ur",
        "aFISdjnAz30C"
      ],
      "authorship_tag": "ABX9TyNO0sJ7hWhYtPYe+yge0if3",
      "include_colab_link": true
    },
    "kernelspec": {
      "name": "python3",
      "display_name": "Python 3"
    },
    "language_info": {
      "name": "python"
    }
  },
  "cells": [
    {
      "cell_type": "markdown",
      "metadata": {
        "id": "view-in-github",
        "colab_type": "text"
      },
      "source": [
        "<a href=\"https://colab.research.google.com/github/jussiermiguel/python/blob/main/Logica_de_Programa%C3%A7%C3%A3o.ipynb\" target=\"_parent\"><img src=\"https://colab.research.google.com/assets/colab-badge.svg\" alt=\"Open In Colab\"/></a>"
      ]
    },
    {
      "cell_type": "markdown",
      "source": [
        "#Fundamentos da Lógica de Programação com Python"
      ],
      "metadata": {
        "id": "3uEK4Fxsie2N"
      }
    },
    {
      "cell_type": "markdown",
      "source": [
        "## Tipo Inteiro"
      ],
      "metadata": {
        "id": "u4n0emSTimqx"
      }
    },
    {
      "cell_type": "code",
      "source": [
        "type(1)"
      ],
      "metadata": {
        "colab": {
          "base_uri": "https://localhost:8080/"
        },
        "id": "t-weL59xiuRz",
        "outputId": "1bac653d-16e9-42ed-fc98-a007718fdd5f"
      },
      "execution_count": 5,
      "outputs": [
        {
          "output_type": "execute_result",
          "data": {
            "text/plain": [
              "int"
            ]
          },
          "metadata": {},
          "execution_count": 5
        }
      ]
    },
    {
      "cell_type": "code",
      "source": [
        "1 + 2"
      ],
      "metadata": {
        "colab": {
          "base_uri": "https://localhost:8080/"
        },
        "id": "DncSYyPDjc29",
        "outputId": "fec647ee-5902-47ae-d6db-ba2fb80f8207"
      },
      "execution_count": 6,
      "outputs": [
        {
          "output_type": "execute_result",
          "data": {
            "text/plain": [
              "3"
            ]
          },
          "metadata": {},
          "execution_count": 6
        }
      ]
    },
    {
      "cell_type": "code",
      "source": [
        "5-3"
      ],
      "metadata": {
        "colab": {
          "base_uri": "https://localhost:8080/"
        },
        "id": "Cw08q5Ofje5O",
        "outputId": "d33bcc7b-54a6-466c-95d4-2c25efc72918"
      },
      "execution_count": 7,
      "outputs": [
        {
          "output_type": "execute_result",
          "data": {
            "text/plain": [
              "2"
            ]
          },
          "metadata": {},
          "execution_count": 7
        }
      ]
    },
    {
      "cell_type": "code",
      "source": [
        "6*7"
      ],
      "metadata": {
        "colab": {
          "base_uri": "https://localhost:8080/"
        },
        "id": "iGqzVOHOjihC",
        "outputId": "2ecc60e2-c7e6-4bd1-a236-f7464d16efee"
      },
      "execution_count": 8,
      "outputs": [
        {
          "output_type": "execute_result",
          "data": {
            "text/plain": [
              "42"
            ]
          },
          "metadata": {},
          "execution_count": 8
        }
      ]
    },
    {
      "cell_type": "code",
      "source": [
        "43 % 6"
      ],
      "metadata": {
        "colab": {
          "base_uri": "https://localhost:8080/"
        },
        "id": "UblZEuGcjlUM",
        "outputId": "7971e8c3-00e0-4dbe-abb9-e7b8f0cd46fc"
      },
      "execution_count": 9,
      "outputs": [
        {
          "output_type": "execute_result",
          "data": {
            "text/plain": [
              "1"
            ]
          },
          "metadata": {},
          "execution_count": 9
        }
      ]
    },
    {
      "cell_type": "code",
      "source": [
        "43/6"
      ],
      "metadata": {
        "colab": {
          "base_uri": "https://localhost:8080/"
        },
        "id": "e7OQFKjZjsXs",
        "outputId": "27d3e9d6-4455-42e7-fe5a-53ee0d7f0be4"
      },
      "execution_count": 10,
      "outputs": [
        {
          "output_type": "execute_result",
          "data": {
            "text/plain": [
              "7.166666666666667"
            ]
          },
          "metadata": {},
          "execution_count": 10
        }
      ]
    },
    {
      "cell_type": "code",
      "source": [
        "43 // 6"
      ],
      "metadata": {
        "colab": {
          "base_uri": "https://localhost:8080/"
        },
        "id": "wMFYv4kqjzXE",
        "outputId": "697ebc7a-525b-45fc-e698-54c8b85612d8"
      },
      "execution_count": 11,
      "outputs": [
        {
          "output_type": "execute_result",
          "data": {
            "text/plain": [
              "7"
            ]
          },
          "metadata": {},
          "execution_count": 11
        }
      ]
    },
    {
      "cell_type": "code",
      "source": [
        "2 ** 3"
      ],
      "metadata": {
        "colab": {
          "base_uri": "https://localhost:8080/"
        },
        "id": "4GljPqBoj7M4",
        "outputId": "24fc3f12-227d-4506-8645-8f18e3d446a2"
      },
      "execution_count": 12,
      "outputs": [
        {
          "output_type": "execute_result",
          "data": {
            "text/plain": [
              "8"
            ]
          },
          "metadata": {},
          "execution_count": 12
        }
      ]
    },
    {
      "cell_type": "code",
      "source": [
        "2 ** 63 - 1"
      ],
      "metadata": {
        "colab": {
          "base_uri": "https://localhost:8080/"
        },
        "id": "TeYxhp30kKAH",
        "outputId": "12462694-973f-4b69-bf84-36e6b6336f88"
      },
      "execution_count": 14,
      "outputs": [
        {
          "output_type": "execute_result",
          "data": {
            "text/plain": [
              "9223372036854775807"
            ]
          },
          "metadata": {},
          "execution_count": 14
        }
      ]
    },
    {
      "cell_type": "code",
      "source": [
        "9_223_372_036_854_775_807"
      ],
      "metadata": {
        "colab": {
          "base_uri": "https://localhost:8080/"
        },
        "id": "6A9QByjnkVDX",
        "outputId": "c244acf7-0f0e-4fe5-8a9b-dc4cb606c962"
      },
      "execution_count": 15,
      "outputs": [
        {
          "output_type": "execute_result",
          "data": {
            "text/plain": [
              "9223372036854775807"
            ]
          },
          "metadata": {},
          "execution_count": 15
        }
      ]
    },
    {
      "cell_type": "code",
      "source": [
        "2 ** 1000"
      ],
      "metadata": {
        "colab": {
          "base_uri": "https://localhost:8080/"
        },
        "id": "0hyR6SMskdbP",
        "outputId": "45ce2918-4660-458f-d510-2ad150cd0711"
      },
      "execution_count": 16,
      "outputs": [
        {
          "output_type": "execute_result",
          "data": {
            "text/plain": [
              "10715086071862673209484250490600018105614048117055336074437503883703510511249361224931983788156958581275946729175531468251871452856923140435984577574698574803934567774824230985421074605062371141877954182153046474983581941267398767559165543946077062914571196477686542167660429831652624386837205668069376"
            ]
          },
          "metadata": {},
          "execution_count": 16
        }
      ]
    },
    {
      "cell_type": "markdown",
      "source": [
        "## Tipo Ponto Flutuante"
      ],
      "metadata": {
        "id": "WhaTJkO5kiKX"
      }
    },
    {
      "cell_type": "code",
      "source": [
        "type(7.166666666666667)"
      ],
      "metadata": {
        "colab": {
          "base_uri": "https://localhost:8080/"
        },
        "id": "JxDWdN0uk3u3",
        "outputId": "bdda8dd2-bec4-4241-c2c7-cc07b4e4616f"
      },
      "execution_count": 17,
      "outputs": [
        {
          "output_type": "execute_result",
          "data": {
            "text/plain": [
              "float"
            ]
          },
          "metadata": {},
          "execution_count": 17
        }
      ]
    },
    {
      "cell_type": "code",
      "source": [
        "7.5 + 5, 5.5 - 7, 7.2*2, 2.1 ** 2, 7.3/2"
      ],
      "metadata": {
        "colab": {
          "base_uri": "https://localhost:8080/"
        },
        "id": "my6XDKbrlGYu",
        "outputId": "273e0410-e9b0-40b0-9175-744cab28caa2"
      },
      "execution_count": 18,
      "outputs": [
        {
          "output_type": "execute_result",
          "data": {
            "text/plain": [
              "(12.5, -1.5, 14.4, 4.41, 3.65)"
            ]
          },
          "metadata": {},
          "execution_count": 18
        }
      ]
    },
    {
      "cell_type": "markdown",
      "source": [
        "##Variáveis"
      ],
      "metadata": {
        "id": "IP-frE4tlgdZ"
      }
    },
    {
      "cell_type": "code",
      "source": [
        "pi = 3.1415\n",
        "raio = 2\n",
        "pi * (raio ** 2)"
      ],
      "metadata": {
        "colab": {
          "base_uri": "https://localhost:8080/"
        },
        "id": "flPZHCeglkHC",
        "outputId": "ed44a964-8cb3-410a-b535-33e00ed2e7c2"
      },
      "execution_count": 24,
      "outputs": [
        {
          "output_type": "execute_result",
          "data": {
            "text/plain": [
              "12.566"
            ]
          },
          "metadata": {},
          "execution_count": 24
        }
      ]
    },
    {
      "cell_type": "code",
      "source": [
        "raio = 1\n",
        "pi * (raio ** 2)"
      ],
      "metadata": {
        "colab": {
          "base_uri": "https://localhost:8080/"
        },
        "id": "8nKGk6xBl8VR",
        "outputId": "61fa0fca-02c4-49e4-a417-fff57fb74db6"
      },
      "execution_count": 26,
      "outputs": [
        {
          "output_type": "execute_result",
          "data": {
            "text/plain": [
              "3.1415"
            ]
          },
          "metadata": {},
          "execution_count": 26
        }
      ]
    },
    {
      "cell_type": "code",
      "source": [
        "nao_existe"
      ],
      "metadata": {
        "colab": {
          "base_uri": "https://localhost:8080/",
          "height": 166
        },
        "id": "vys8PDn4mIMG",
        "outputId": "c55fbbe2-4d92-40cb-acec-fd0d724ef7c6"
      },
      "execution_count": 27,
      "outputs": [
        {
          "output_type": "error",
          "ename": "NameError",
          "evalue": "ignored",
          "traceback": [
            "\u001b[0;31m---------------------------------------------------------------------------\u001b[0m",
            "\u001b[0;31mNameError\u001b[0m                                 Traceback (most recent call last)",
            "\u001b[0;32m<ipython-input-27-c00b538a1e2f>\u001b[0m in \u001b[0;36m<module>\u001b[0;34m\u001b[0m\n\u001b[0;32m----> 1\u001b[0;31m \u001b[0mnao_existe\u001b[0m\u001b[0;34m\u001b[0m\u001b[0;34m\u001b[0m\u001b[0m\n\u001b[0m",
            "\u001b[0;31mNameError\u001b[0m: name 'nao_existe' is not defined"
          ]
        }
      ]
    },
    {
      "cell_type": "markdown",
      "source": [
        "## Cadeia de Caracteres (String)"
      ],
      "metadata": {
        "id": "5g2T_THhmONF"
      }
    },
    {
      "cell_type": "code",
      "source": [
        "print('Olá Mundo')"
      ],
      "metadata": {
        "colab": {
          "base_uri": "https://localhost:8080/"
        },
        "id": "Ece8F3a0mWtS",
        "outputId": "07d69ff9-82cd-40fc-986f-dad013a187db"
      },
      "execution_count": 28,
      "outputs": [
        {
          "output_type": "stream",
          "name": "stdout",
          "text": [
            "Olá Mundo\n"
          ]
        }
      ]
    },
    {
      "cell_type": "code",
      "source": [
        "type('Renzo'), type(\"Renzo\"), type(\"\"\"Renzo\"\"\"), type ('''Renzo''')"
      ],
      "metadata": {
        "colab": {
          "base_uri": "https://localhost:8080/"
        },
        "id": "qV1P4gNjmbam",
        "outputId": "e046d926-10b3-42b9-f2f5-b5c2f1450805"
      },
      "execution_count": 31,
      "outputs": [
        {
          "output_type": "execute_result",
          "data": {
            "text/plain": [
              "(str, str, str, str)"
            ]
          },
          "metadata": {},
          "execution_count": 31
        }
      ]
    },
    {
      "cell_type": "code",
      "source": [
        "nome = \"\"\"Renzo's name\" \"\"\"\n",
        "nome"
      ],
      "metadata": {
        "colab": {
          "base_uri": "https://localhost:8080/",
          "height": 35
        },
        "id": "zDk3LZMQmsg6",
        "outputId": "4e241d1b-af8b-4b95-ed75-f6aaf0f87cda"
      },
      "execution_count": 36,
      "outputs": [
        {
          "output_type": "execute_result",
          "data": {
            "text/plain": [
              "'Renzo\\'s name\" '"
            ],
            "application/vnd.google.colaboratory.intrinsic+json": {
              "type": "string"
            }
          },
          "metadata": {},
          "execution_count": 36
        }
      ]
    },
    {
      "cell_type": "code",
      "source": [
        "nome = 'Renzo \\n Nuccitelli'\n",
        "print(nome)"
      ],
      "metadata": {
        "colab": {
          "base_uri": "https://localhost:8080/"
        },
        "id": "DoOYGJLNnI7r",
        "outputId": "26a886a3-c775-448b-afff-7383a0143717"
      },
      "execution_count": 42,
      "outputs": [
        {
          "output_type": "stream",
          "name": "stdout",
          "text": [
            "Renzo \n",
            " Nuccitelli\n"
          ]
        }
      ]
    },
    {
      "cell_type": "code",
      "source": [
        "nome = '''Renzo\n",
        "Nuccitelli'''\n",
        "print(nome)"
      ],
      "metadata": {
        "colab": {
          "base_uri": "https://localhost:8080/"
        },
        "id": "CrWPXCG9nxPk",
        "outputId": "07d5f1a9-8f58-4964-e8da-9b63591b482f"
      },
      "execution_count": 43,
      "outputs": [
        {
          "output_type": "stream",
          "name": "stdout",
          "text": [
            "Renzo\n",
            "Nuccitelli\n"
          ]
        }
      ]
    },
    {
      "cell_type": "markdown",
      "source": [
        "## Tipo Booleanos"
      ],
      "metadata": {
        "id": "5pw0GB2An5Am"
      }
    },
    {
      "cell_type": "code",
      "source": [
        "True, False, type(True), type(False)"
      ],
      "metadata": {
        "colab": {
          "base_uri": "https://localhost:8080/"
        },
        "id": "0CtUjCu-n9jD",
        "outputId": "4b31e8c6-8e3a-4237-f613-41fa0fb1513c"
      },
      "execution_count": 46,
      "outputs": [
        {
          "output_type": "execute_result",
          "data": {
            "text/plain": [
              "(True, False, bool, bool)"
            ]
          },
          "metadata": {},
          "execution_count": 46
        }
      ]
    },
    {
      "cell_type": "code",
      "source": [
        "not True, not False"
      ],
      "metadata": {
        "colab": {
          "base_uri": "https://localhost:8080/"
        },
        "id": "Tx-Q9ExBo1lr",
        "outputId": "6de5d3cf-5735-4636-b328-8bd9f3c10560"
      },
      "execution_count": 47,
      "outputs": [
        {
          "output_type": "execute_result",
          "data": {
            "text/plain": [
              "(False, True)"
            ]
          },
          "metadata": {},
          "execution_count": 47
        }
      ]
    },
    {
      "cell_type": "code",
      "source": [
        "True and True, True and False, False and True, False and False"
      ],
      "metadata": {
        "colab": {
          "base_uri": "https://localhost:8080/"
        },
        "id": "LtOUyeCco6PW",
        "outputId": "6bcbaefc-8a4d-45d5-b5a5-b3d3dbb8e0ad"
      },
      "execution_count": 51,
      "outputs": [
        {
          "output_type": "execute_result",
          "data": {
            "text/plain": [
              "(True, False, False, False)"
            ]
          },
          "metadata": {},
          "execution_count": 51
        }
      ]
    },
    {
      "cell_type": "code",
      "source": [
        "True or True, True or False, False or True, False or False"
      ],
      "metadata": {
        "colab": {
          "base_uri": "https://localhost:8080/"
        },
        "id": "YiBUkv3kpWcl",
        "outputId": "71a118b6-c329-4a6e-817e-89d9c58e29e4"
      },
      "execution_count": 52,
      "outputs": [
        {
          "output_type": "execute_result",
          "data": {
            "text/plain": [
              "(True, True, True, False)"
            ]
          },
          "metadata": {},
          "execution_count": 52
        }
      ]
    },
    {
      "cell_type": "code",
      "source": [
        "5<6, 5 >= 6, 5 == 4, 5 == 5, 5 != 4, 5!=5, 'Renzo' == 'Renzo'"
      ],
      "metadata": {
        "colab": {
          "base_uri": "https://localhost:8080/"
        },
        "id": "FUfN4q6npdQx",
        "outputId": "57f741c4-962a-4e21-9dab-0c6f11e008ee"
      },
      "execution_count": 58,
      "outputs": [
        {
          "output_type": "execute_result",
          "data": {
            "text/plain": [
              "(True, False, False, True, True, False, True)"
            ]
          },
          "metadata": {},
          "execution_count": 58
        }
      ]
    },
    {
      "cell_type": "code",
      "source": [
        "renzo = 'Renzo'\n",
        "renzo == 'renzo'"
      ],
      "metadata": {
        "colab": {
          "base_uri": "https://localhost:8080/"
        },
        "id": "REaRMfArp1q_",
        "outputId": "40b1351b-8e21-48aa-9cef-3eeece472256"
      },
      "execution_count": 59,
      "outputs": [
        {
          "output_type": "execute_result",
          "data": {
            "text/plain": [
              "False"
            ]
          },
          "metadata": {},
          "execution_count": 59
        }
      ]
    },
    {
      "cell_type": "markdown",
      "source": [
        "## Desvios Lógicos"
      ],
      "metadata": {
        "id": "vZGb_jZIp9fq"
      }
    },
    {
      "cell_type": "code",
      "source": [
        "idade = 65\n",
        "\n",
        "if idade < 18:\n",
        "  print(f'Menor de idade: {idade} anos')\n",
        "  print('Acabou o if')\n",
        "elif idade >= 65:\n",
        "  print(f\"Idosa: {idade} anos\")\n",
        "else:\n",
        "  print(f\"Maior de idade: {idade} anos\")"
      ],
      "metadata": {
        "colab": {
          "base_uri": "https://localhost:8080/"
        },
        "id": "Z_GjmQO1qBHp",
        "outputId": "07cafe82-91c0-4e1e-9a06-ecf3a833a962"
      },
      "execution_count": 68,
      "outputs": [
        {
          "output_type": "stream",
          "name": "stdout",
          "text": [
            "Idosa: 65 anos\n"
          ]
        }
      ]
    },
    {
      "cell_type": "markdown",
      "source": [
        "## Funções"
      ],
      "metadata": {
        "id": "9vDu8S4Frugn"
      }
    },
    {
      "cell_type": "code",
      "source": [
        "def classificar(idade, nome):\n",
        "  if idade < 18:\n",
        "    return f'{nome} é menor de idade: {idade} anos'\n",
        "  elif idade >= 65:\n",
        "    return f\"{nome} é Idosa: {idade} anos\"\n",
        "  else:\n",
        "    return f\"{nome} é maior de idade: {idade} anos\""
      ],
      "metadata": {
        "id": "MvLfxhfJrxlF"
      },
      "execution_count": 70,
      "outputs": []
    },
    {
      "cell_type": "code",
      "source": [
        "classificar(38, \"Renzo\"), classificar(150, \"Matusalem\")"
      ],
      "metadata": {
        "colab": {
          "base_uri": "https://localhost:8080/"
        },
        "id": "KivCRuwTspcb",
        "outputId": "7de11415-6eb2-4d3e-83ea-35fa4a31186b"
      },
      "execution_count": 72,
      "outputs": [
        {
          "output_type": "execute_result",
          "data": {
            "text/plain": [
              "('Renzo é maior de idade: 38 anos', 'Matusalem é Idosa: 150 anos')"
            ]
          },
          "metadata": {},
          "execution_count": 72
        }
      ]
    },
    {
      "cell_type": "markdown",
      "source": [
        "## Sequências"
      ],
      "metadata": {
        "id": "b1IaI4Vgt_ch"
      }
    },
    {
      "cell_type": "code",
      "source": [
        "lista = [1, 4.5, True, []]\n",
        "type(lista), lista"
      ],
      "metadata": {
        "colab": {
          "base_uri": "https://localhost:8080/"
        },
        "id": "MbBDYbOLuCEV",
        "outputId": "63320852-a24a-4225-dd63-4da1db65d6a9"
      },
      "execution_count": 77,
      "outputs": [
        {
          "output_type": "execute_result",
          "data": {
            "text/plain": [
              "(list, [1, 4.5, True, []])"
            ]
          },
          "metadata": {},
          "execution_count": 77
        }
      ]
    },
    {
      "cell_type": "code",
      "source": [
        "lista[0], lista[3]"
      ],
      "metadata": {
        "colab": {
          "base_uri": "https://localhost:8080/"
        },
        "id": "wnaBHm_DvU35",
        "outputId": "ebded9f5-a594-4dce-af11-c5d728c305d1"
      },
      "execution_count": 82,
      "outputs": [
        {
          "output_type": "execute_result",
          "data": {
            "text/plain": [
              "(1, [])"
            ]
          },
          "metadata": {},
          "execution_count": 82
        }
      ]
    },
    {
      "cell_type": "code",
      "source": [
        "len(lista)"
      ],
      "metadata": {
        "colab": {
          "base_uri": "https://localhost:8080/"
        },
        "id": "rvFvIe2pvtZN",
        "outputId": "9d48f961-b529-4b42-8521-ce321673abb6"
      },
      "execution_count": 83,
      "outputs": [
        {
          "output_type": "execute_result",
          "data": {
            "text/plain": [
              "4"
            ]
          },
          "metadata": {},
          "execution_count": 83
        }
      ]
    },
    {
      "cell_type": "code",
      "source": [
        "lista[len(lista) - 1], lista[len(lista) - 2]"
      ],
      "metadata": {
        "colab": {
          "base_uri": "https://localhost:8080/"
        },
        "id": "YKW75pGUvx14",
        "outputId": "b05f2b93-a985-4534-fe66-8d554ad50083"
      },
      "execution_count": 86,
      "outputs": [
        {
          "output_type": "execute_result",
          "data": {
            "text/plain": [
              "([], True)"
            ]
          },
          "metadata": {},
          "execution_count": 86
        }
      ]
    },
    {
      "cell_type": "code",
      "source": [
        "lista[-1], lista[-2]"
      ],
      "metadata": {
        "colab": {
          "base_uri": "https://localhost:8080/"
        },
        "id": "4Haiy7jXwOE8",
        "outputId": "36235b62-b8d7-4e53-ba47-1eebf00e14f7"
      },
      "execution_count": 87,
      "outputs": [
        {
          "output_type": "execute_result",
          "data": {
            "text/plain": [
              "([], True)"
            ]
          },
          "metadata": {},
          "execution_count": 87
        }
      ]
    },
    {
      "cell_type": "code",
      "source": [
        "lista"
      ],
      "metadata": {
        "colab": {
          "base_uri": "https://localhost:8080/"
        },
        "id": "og4QOP8hwXWG",
        "outputId": "10195093-5cfd-4c34-f9ea-af4ef9ef5fc1"
      },
      "execution_count": 88,
      "outputs": [
        {
          "output_type": "execute_result",
          "data": {
            "text/plain": [
              "[1, 4.5, True, []]"
            ]
          },
          "metadata": {},
          "execution_count": 88
        }
      ]
    },
    {
      "cell_type": "code",
      "source": [
        "lista[0:2], lista[1:3], lista[:3], lista[2: len(lista)], lista[2:]"
      ],
      "metadata": {
        "colab": {
          "base_uri": "https://localhost:8080/"
        },
        "id": "JjyicEi5waNl",
        "outputId": "b9e1dc03-9a9e-46e9-dd14-910b625dff15"
      },
      "execution_count": 94,
      "outputs": [
        {
          "output_type": "execute_result",
          "data": {
            "text/plain": [
              "([1, 4.5], [4.5, True], [1, 4.5, True], [True, []], [True, []])"
            ]
          },
          "metadata": {},
          "execution_count": 94
        }
      ]
    },
    {
      "cell_type": "code",
      "source": [
        "lista[:]"
      ],
      "metadata": {
        "colab": {
          "base_uri": "https://localhost:8080/"
        },
        "id": "1MGaZCkWw-rg",
        "outputId": "ed9cd037-d4c2-47d0-e5e7-a9c23c0b6f38"
      },
      "execution_count": 95,
      "outputs": [
        {
          "output_type": "execute_result",
          "data": {
            "text/plain": [
              "[1, 4.5, True, []]"
            ]
          },
          "metadata": {},
          "execution_count": 95
        }
      ]
    },
    {
      "cell_type": "code",
      "source": [
        "numeros = list(range(1, 11))\n",
        "numeros, numeros[1:7:2]"
      ],
      "metadata": {
        "colab": {
          "base_uri": "https://localhost:8080/"
        },
        "id": "6FOjPX_exBQX",
        "outputId": "1b1a781d-e81f-4fe0-e5a5-681936cca792"
      },
      "execution_count": 102,
      "outputs": [
        {
          "output_type": "execute_result",
          "data": {
            "text/plain": [
              "([1, 2, 3, 4, 5, 6, 7, 8, 9, 10], [2, 4, 6])"
            ]
          },
          "metadata": {},
          "execution_count": 102
        }
      ]
    },
    {
      "cell_type": "code",
      "source": [
        "list(range(1, 32, 2))"
      ],
      "metadata": {
        "colab": {
          "base_uri": "https://localhost:8080/"
        },
        "id": "avWLEuCrxafu",
        "outputId": "359636d5-3d0a-4de4-dd3f-feac6a301fba"
      },
      "execution_count": 107,
      "outputs": [
        {
          "output_type": "execute_result",
          "data": {
            "text/plain": [
              "[1, 3, 5, 7, 9, 11, 13, 15, 17, 19, 21, 23, 25, 27, 29, 31]"
            ]
          },
          "metadata": {},
          "execution_count": 107
        }
      ]
    },
    {
      "cell_type": "code",
      "source": [
        "renzo = 'Renzo Nuccitelli'\n",
        "renzo[0], renzo[:6]"
      ],
      "metadata": {
        "colab": {
          "base_uri": "https://localhost:8080/"
        },
        "id": "Rr5qCKoZxmi-",
        "outputId": "ff110979-6908-49cb-fc24-335961924336"
      },
      "execution_count": 108,
      "outputs": [
        {
          "output_type": "execute_result",
          "data": {
            "text/plain": [
              "('R', 'Renzo ')"
            ]
          },
          "metadata": {},
          "execution_count": 108
        }
      ]
    },
    {
      "cell_type": "markdown",
      "source": [
        "Adição e Remoção"
      ],
      "metadata": {
        "id": "pufBxv5Ixwb7"
      }
    },
    {
      "cell_type": "code",
      "source": [
        "dir(numeros)"
      ],
      "metadata": {
        "colab": {
          "base_uri": "https://localhost:8080/"
        },
        "id": "1eV1VpxRxy3T",
        "outputId": "aa0edf03-05f9-4d58-f6b0-92420a1d9c5a"
      },
      "execution_count": 109,
      "outputs": [
        {
          "output_type": "execute_result",
          "data": {
            "text/plain": [
              "['__add__',\n",
              " '__class__',\n",
              " '__class_getitem__',\n",
              " '__contains__',\n",
              " '__delattr__',\n",
              " '__delitem__',\n",
              " '__dir__',\n",
              " '__doc__',\n",
              " '__eq__',\n",
              " '__format__',\n",
              " '__ge__',\n",
              " '__getattribute__',\n",
              " '__getitem__',\n",
              " '__gt__',\n",
              " '__hash__',\n",
              " '__iadd__',\n",
              " '__imul__',\n",
              " '__init__',\n",
              " '__init_subclass__',\n",
              " '__iter__',\n",
              " '__le__',\n",
              " '__len__',\n",
              " '__lt__',\n",
              " '__mul__',\n",
              " '__ne__',\n",
              " '__new__',\n",
              " '__reduce__',\n",
              " '__reduce_ex__',\n",
              " '__repr__',\n",
              " '__reversed__',\n",
              " '__rmul__',\n",
              " '__setattr__',\n",
              " '__setitem__',\n",
              " '__sizeof__',\n",
              " '__str__',\n",
              " '__subclasshook__',\n",
              " 'append',\n",
              " 'clear',\n",
              " 'copy',\n",
              " 'count',\n",
              " 'extend',\n",
              " 'index',\n",
              " 'insert',\n",
              " 'pop',\n",
              " 'remove',\n",
              " 'reverse',\n",
              " 'sort']"
            ]
          },
          "metadata": {},
          "execution_count": 109
        }
      ]
    },
    {
      "cell_type": "code",
      "source": [
        "help(numeros.pop)"
      ],
      "metadata": {
        "colab": {
          "base_uri": "https://localhost:8080/"
        },
        "id": "J27-KDEwx8_P",
        "outputId": "8e1bf310-707a-4189-c6db-c3f6bc7f4989"
      },
      "execution_count": 111,
      "outputs": [
        {
          "output_type": "stream",
          "name": "stdout",
          "text": [
            "Help on built-in function pop:\n",
            "\n",
            "pop(index=-1, /) method of builtins.list instance\n",
            "    Remove and return item at index (default last).\n",
            "    \n",
            "    Raises IndexError if list is empty or index is out of range.\n",
            "\n"
          ]
        }
      ]
    },
    {
      "cell_type": "code",
      "source": [
        "numeros"
      ],
      "metadata": {
        "colab": {
          "base_uri": "https://localhost:8080/"
        },
        "id": "mgcE7m_YyKaJ",
        "outputId": "c1f4e6c0-64a9-4528-b105-1eaecd267539"
      },
      "execution_count": 112,
      "outputs": [
        {
          "output_type": "execute_result",
          "data": {
            "text/plain": [
              "[1, 2, 3, 4, 5, 6, 7, 8, 9, 10]"
            ]
          },
          "metadata": {},
          "execution_count": 112
        }
      ]
    },
    {
      "cell_type": "code",
      "source": [
        "numeros.pop()"
      ],
      "metadata": {
        "colab": {
          "base_uri": "https://localhost:8080/"
        },
        "id": "aWNjFAGKyNPl",
        "outputId": "b700a272-6ed7-4ced-f029-a5371fc70720"
      },
      "execution_count": 114,
      "outputs": [
        {
          "output_type": "execute_result",
          "data": {
            "text/plain": [
              "10"
            ]
          },
          "metadata": {},
          "execution_count": 114
        }
      ]
    },
    {
      "cell_type": "code",
      "source": [
        "numeros"
      ],
      "metadata": {
        "colab": {
          "base_uri": "https://localhost:8080/"
        },
        "id": "6QkxzIEIyT9B",
        "outputId": "89eb0af2-5ad3-4742-a080-f7d27457db1e"
      },
      "execution_count": 115,
      "outputs": [
        {
          "output_type": "execute_result",
          "data": {
            "text/plain": [
              "[1, 2, 3, 4, 5, 6, 7, 8, 9]"
            ]
          },
          "metadata": {},
          "execution_count": 115
        }
      ]
    },
    {
      "cell_type": "code",
      "source": [
        "numeros.append(10)"
      ],
      "metadata": {
        "id": "TbQk9Qh3yWaT"
      },
      "execution_count": 116,
      "outputs": []
    },
    {
      "cell_type": "code",
      "source": [
        "numeros"
      ],
      "metadata": {
        "colab": {
          "base_uri": "https://localhost:8080/"
        },
        "id": "gn0Hz3boyZGK",
        "outputId": "9273dd26-483b-4392-8562-551cb1d8ebb5"
      },
      "execution_count": 117,
      "outputs": [
        {
          "output_type": "execute_result",
          "data": {
            "text/plain": [
              "[1, 2, 3, 4, 5, 6, 7, 8, 9, 10]"
            ]
          },
          "metadata": {},
          "execution_count": 117
        }
      ]
    },
    {
      "cell_type": "code",
      "source": [
        "numeros.extend([11, 12])"
      ],
      "metadata": {
        "id": "5EzGqw7Tyb4D"
      },
      "execution_count": 118,
      "outputs": []
    },
    {
      "cell_type": "code",
      "source": [
        "numeros"
      ],
      "metadata": {
        "colab": {
          "base_uri": "https://localhost:8080/"
        },
        "id": "c_w4wp8CygnI",
        "outputId": "d5d2ddb0-e1e4-40d8-c786-289657f31c7d"
      },
      "execution_count": 119,
      "outputs": [
        {
          "output_type": "execute_result",
          "data": {
            "text/plain": [
              "[1, 2, 3, 4, 5, 6, 7, 8, 9, 10, 11, 12]"
            ]
          },
          "metadata": {},
          "execution_count": 119
        }
      ]
    },
    {
      "cell_type": "code",
      "source": [
        "[1, 3] + [2, 4]"
      ],
      "metadata": {
        "colab": {
          "base_uri": "https://localhost:8080/"
        },
        "id": "_BVt5134yj-l",
        "outputId": "8c6b54cb-654c-42f0-b1da-5bcec386a555"
      },
      "execution_count": 120,
      "outputs": [
        {
          "output_type": "execute_result",
          "data": {
            "text/plain": [
              "[1, 3, 2, 4]"
            ]
          },
          "metadata": {},
          "execution_count": 120
        }
      ]
    },
    {
      "cell_type": "code",
      "source": [
        "[1, 3] * 3"
      ],
      "metadata": {
        "colab": {
          "base_uri": "https://localhost:8080/"
        },
        "id": "5t0jFWcDyrgb",
        "outputId": "e07275cd-6d6a-4820-a60d-27706613c935"
      },
      "execution_count": 121,
      "outputs": [
        {
          "output_type": "execute_result",
          "data": {
            "text/plain": [
              "[1, 3, 1, 3, 1, 3]"
            ]
          },
          "metadata": {},
          "execution_count": 121
        }
      ]
    },
    {
      "cell_type": "code",
      "source": [
        "'Renzo' + 'Nuccitelli'"
      ],
      "metadata": {
        "colab": {
          "base_uri": "https://localhost:8080/",
          "height": 35
        },
        "id": "4qPO0vY3yy1b",
        "outputId": "bf4ad016-8280-4eac-c5c5-c017dace6261"
      },
      "execution_count": 124,
      "outputs": [
        {
          "output_type": "execute_result",
          "data": {
            "text/plain": [
              "'RenzoNuccitelli'"
            ],
            "application/vnd.google.colaboratory.intrinsic+json": {
              "type": "string"
            }
          },
          "metadata": {},
          "execution_count": 124
        }
      ]
    },
    {
      "cell_type": "code",
      "source": [
        "'bla' * 3"
      ],
      "metadata": {
        "colab": {
          "base_uri": "https://localhost:8080/",
          "height": 35
        },
        "id": "draKi0phy6xn",
        "outputId": "b8e596c3-115e-437e-dff6-0169ed130e6d"
      },
      "execution_count": 125,
      "outputs": [
        {
          "output_type": "execute_result",
          "data": {
            "text/plain": [
              "'blablabla'"
            ],
            "application/vnd.google.colaboratory.intrinsic+json": {
              "type": "string"
            }
          },
          "metadata": {},
          "execution_count": 125
        }
      ]
    },
    {
      "cell_type": "markdown",
      "source": [
        "## Laços de Repetição"
      ],
      "metadata": {
        "id": "sY7srybHy-Ur"
      }
    },
    {
      "cell_type": "code",
      "source": [
        "idades = [17, 38, 70, 80]\n",
        "classificar(idades[0], 'Renzo'), classificar(idades[1], 'Renzo'), classificar(idades[2], 'Renzo')"
      ],
      "metadata": {
        "colab": {
          "base_uri": "https://localhost:8080/"
        },
        "id": "E8dz0HY7zCLK",
        "outputId": "60457833-a0cc-4c5d-d801-202b3a253b73"
      },
      "execution_count": 132,
      "outputs": [
        {
          "output_type": "execute_result",
          "data": {
            "text/plain": [
              "('Renzo é menor de idade: 17 anos',\n",
              " 'Renzo é maior de idade: 38 anos',\n",
              " 'Renzo é Idosa: 70 anos')"
            ]
          },
          "metadata": {},
          "execution_count": 132
        }
      ]
    },
    {
      "cell_type": "code",
      "source": [
        "for idade in idades:\n",
        "  print(classificar(idade, 'Pessoa'))"
      ],
      "metadata": {
        "colab": {
          "base_uri": "https://localhost:8080/"
        },
        "id": "kduZCwHmzYOg",
        "outputId": "86c1b618-770d-4d70-f556-4033f72d5eeb"
      },
      "execution_count": 133,
      "outputs": [
        {
          "output_type": "stream",
          "name": "stdout",
          "text": [
            "Pessoa é menor de idade: 17 anos\n",
            "Pessoa é maior de idade: 38 anos\n",
            "Pessoa é Idosa: 70 anos\n",
            "Pessoa é Idosa: 80 anos\n"
          ]
        }
      ]
    },
    {
      "cell_type": "markdown",
      "source": [
        "## Dicionário"
      ],
      "metadata": {
        "id": "aFISdjnAz30C"
      }
    },
    {
      "cell_type": "code",
      "source": [
        "linguas = {'pt': 'Portugues', 'en': 'Inglês'}\n",
        "linguas ['pt'], linguas ['en']"
      ],
      "metadata": {
        "colab": {
          "base_uri": "https://localhost:8080/"
        },
        "id": "Wcd--mgnz6w6",
        "outputId": "73b72bcb-5cfb-4b49-d484-520938507faf"
      },
      "execution_count": 138,
      "outputs": [
        {
          "output_type": "execute_result",
          "data": {
            "text/plain": [
              "('Portugues', 'Inglês')"
            ]
          },
          "metadata": {},
          "execution_count": 138
        }
      ]
    },
    {
      "cell_type": "code",
      "source": [
        "linguas['es'] = 'Espanhol'\n",
        "linguas"
      ],
      "metadata": {
        "colab": {
          "base_uri": "https://localhost:8080/"
        },
        "id": "KJQKj0Y70nr0",
        "outputId": "ce67b5f0-9ef3-40b7-8070-da8392709b05"
      },
      "execution_count": 142,
      "outputs": [
        {
          "output_type": "execute_result",
          "data": {
            "text/plain": [
              "{'pt': 'Portugues', 'en': 'Inglês', 'es': 'Espanhol'}"
            ]
          },
          "metadata": {},
          "execution_count": 142
        }
      ]
    },
    {
      "cell_type": "code",
      "source": [
        "for chave in linguas.keys():\n",
        "  print(chave)"
      ],
      "metadata": {
        "colab": {
          "base_uri": "https://localhost:8080/"
        },
        "id": "4EHTgcbH1AW9",
        "outputId": "bd914397-5949-485d-c0f9-6c4def7d4806"
      },
      "execution_count": 146,
      "outputs": [
        {
          "output_type": "stream",
          "name": "stdout",
          "text": [
            "pt\n",
            "en\n",
            "es\n"
          ]
        }
      ]
    },
    {
      "cell_type": "code",
      "source": [
        "for valor in linguas.values():\n",
        "  print(valor)"
      ],
      "metadata": {
        "colab": {
          "base_uri": "https://localhost:8080/"
        },
        "id": "MwAlFvca1LDf",
        "outputId": "c51aef15-1d8b-43a9-a739-9382c14bb972"
      },
      "execution_count": 147,
      "outputs": [
        {
          "output_type": "stream",
          "name": "stdout",
          "text": [
            "Portugues\n",
            "Inglês\n",
            "Espanhol\n"
          ]
        }
      ]
    },
    {
      "cell_type": "code",
      "source": [
        "for chave, valor in linguas.items():\n",
        "  print(chave, valor)"
      ],
      "metadata": {
        "colab": {
          "base_uri": "https://localhost:8080/"
        },
        "id": "cNWadioP1RXR",
        "outputId": "72d079b6-a365-4e49-bb3d-8229ce407cc9"
      },
      "execution_count": 148,
      "outputs": [
        {
          "output_type": "stream",
          "name": "stdout",
          "text": [
            "pt Portugues\n",
            "en Inglês\n",
            "es Espanhol\n"
          ]
        }
      ]
    }
  ]
}