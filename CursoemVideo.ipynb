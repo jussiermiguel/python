{
  "nbformat": 4,
  "nbformat_minor": 0,
  "metadata": {
    "colab": {
      "provenance": [],
      "authorship_tag": "ABX9TyPrG31PXuKLDwNNaGDCHLeu",
      "include_colab_link": true
    },
    "kernelspec": {
      "name": "python3",
      "display_name": "Python 3"
    },
    "language_info": {
      "name": "python"
    }
  },
  "cells": [
    {
      "cell_type": "markdown",
      "metadata": {
        "id": "view-in-github",
        "colab_type": "text"
      },
      "source": [
        "<a href=\"https://colab.research.google.com/github/jussiermiguel/python/blob/main/CursoemVideo.ipynb\" target=\"_parent\"><img src=\"https://colab.research.google.com/assets/colab-badge.svg\" alt=\"Open In Colab\"/></a>"
      ]
    },
    {
      "cell_type": "code",
      "execution_count": 5,
      "metadata": {
        "colab": {
          "base_uri": "https://localhost:8080/"
        },
        "id": "Nn9BJwaeCSEx",
        "outputId": "8b749c77-329d-478e-d020-eeb87a8f2d57"
      },
      "outputs": [
        {
          "output_type": "stream",
          "name": "stdout",
          "text": [
            "Digite um número: 12\n",
            "12, seu antecessor é 11 e o seu sucessor é 13\n"
          ]
        }
      ],
      "source": [
        "n = int(input('Digite um número: '))\n",
        "a = n - 1\n",
        "s = n + 1\n",
        "print('{}, seu antecessor é {} e o seu sucessor é {}'.format(n, a, s))"
      ]
    },
    {
      "cell_type": "code",
      "source": [
        "n = int(input('Digite um número: '))\n",
        "\n",
        "print('{}, seu antecessor é {} e o seu sucessor é {}'.format(n, (n-1), (n+1)))"
      ],
      "metadata": {
        "colab": {
          "base_uri": "https://localhost:8080/"
        },
        "id": "MqbADrB8DXqB",
        "outputId": "0f835143-bc16-4867-fa7c-cae263d14b4c"
      },
      "execution_count": 6,
      "outputs": [
        {
          "output_type": "stream",
          "name": "stdout",
          "text": [
            "Digite um número: 4\n",
            "4, seu antecessor é 3 e o seu sucessor é 5\n"
          ]
        }
      ]
    },
    {
      "cell_type": "code",
      "source": [
        "a = input('Digite algo')\n",
        "print('o tipo primitivo é ', type(a))\n",
        "print('Tem espaço?', a.isspace())\n",
        "print('é número?', a.isnumeric())\n",
        "print('É alfabetico?', a.isalpha())\n",
        "print('É alfanumérico', a.isalnum())\n",
        "print('Está em maiúscula?', a.isupper())\n",
        "print('minuscula?', a.islower())\n",
        "\n",
        "print('está capitalizada?', a.istitle())"
      ],
      "metadata": {
        "colab": {
          "base_uri": "https://localhost:8080/"
        },
        "id": "KW1ODNwqDoUN",
        "outputId": "798967c5-4526-4e7f-b1bd-77a089fa9592"
      },
      "execution_count": 7,
      "outputs": [
        {
          "output_type": "stream",
          "name": "stdout",
          "text": [
            "Digite algo12\n",
            "o tipo primitivo é  <class 'str'>\n",
            "Tem espaço? False\n",
            "é número? True\n",
            "É alfabetico? False\n",
            "É alfanumérico True\n",
            "Está em maiúscula? False\n",
            "minuscula? False\n",
            "está capitalizada? False\n"
          ]
        }
      ]
    },
    {
      "cell_type": "code",
      "source": [
        "num = int(input('Digite um número: '))\n",
        "d = num * 2\n",
        "t = num * 3\n",
        "rq = num ** (1/2)\n",
        "\n",
        "print('O número digitado foi: {}. Seu dobro vale: {}. Seu triplo: {}. Sua Raíz Quadrada é: {}'.format(num, d, t, rq))"
      ],
      "metadata": {
        "colab": {
          "base_uri": "https://localhost:8080/"
        },
        "id": "B7L0F7tHD54q",
        "outputId": "59e2720c-2d82-4cb4-a0ae-2e89279508ac"
      },
      "execution_count": 10,
      "outputs": [
        {
          "output_type": "stream",
          "name": "stdout",
          "text": [
            "Digite um número: 81\n",
            "O número digitado foi: 81. Seu dobro vale: 162. Seu triplo: 243. Sua Raíz Quadrada é: 9.0\n"
          ]
        }
      ]
    },
    {
      "cell_type": "code",
      "source": [
        "num = int(input('Digite um número: '))\n",
        "\n",
        "\n",
        "print('O número digitado foi: {}. Seu dobro vale: {}. Seu triplo: {}. Sua Raíz Quadrada é: {}'.format(num, (num * 2), (num * 3), pow(num, (1/2))))"
      ],
      "metadata": {
        "colab": {
          "base_uri": "https://localhost:8080/"
        },
        "id": "F5Fvvea4Fe_B",
        "outputId": "4c2bbf32-fec9-464f-e3a0-ffc274a0c8eb"
      },
      "execution_count": 12,
      "outputs": [
        {
          "output_type": "stream",
          "name": "stdout",
          "text": [
            "Digite um número: 81\n",
            "O número digitado foi: 81. Seu dobro vale: 162. Seu triplo: 243. Sua Raíz Quadrada é: 9.0\n"
          ]
        }
      ]
    },
    {
      "cell_type": "code",
      "source": [
        "nota1 = float(input('Digite o valor da primeira nota do(a) Aluno(a): '))\n",
        "nota2 = float(input('Digite o valor da segunda nota do(a) Aluno(a): '))\n",
        "\n",
        "print('As notas digitadas foram {:.1f} e {:.1f}. A média do(a) Aluno(a) é: {:.1f}'.format(nota1, nota2, ((nota1+nota2)/2)))"
      ],
      "metadata": {
        "colab": {
          "base_uri": "https://localhost:8080/"
        },
        "id": "1RBqvu35GHJS",
        "outputId": "1812d5b2-96c5-478e-ed72-90e9ffa5ee1d"
      },
      "execution_count": 17,
      "outputs": [
        {
          "output_type": "stream",
          "name": "stdout",
          "text": [
            "Digite o valor da primeira nota do(a) Aluno(a): 14\n",
            "Digite o valor da segunda nota do(a) Aluno(a): 14\n",
            "As notas digitadas foram 14.0 e 14.0. A média do(a) Aluno(a) é: 14.0\n"
          ]
        }
      ]
    }
  ]
}